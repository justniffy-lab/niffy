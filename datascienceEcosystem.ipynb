{
 "cells": [
  {
   "cell_type": "markdown",
   "id": "3b8137e1-b0b9-4c85-a63b-52f663a57d89",
   "metadata": {},
   "source": [
    "\n",
    "# Data Science Tools and Ecosystem\n",
    "In this notebook, Data Science Tools and Ecosystem are summarized."
   ]
  },
  {
   "cell_type": "markdown",
   "id": "f4083f73-8c34-4dfd-a968-c121cd85405e",
   "metadata": {},
   "source": [
    "Some of the popular languages that Data Scientists use are:\n",
    "1. R programming language\n",
    "2. Python\n",
    "3. SQL (Structured Query Language)\n",
    "4. julia\n"
   ]
  },
  {
   "cell_type": "markdown",
   "id": "e1be32fa-80c8-4c68-8e73-122ae2ce6141",
   "metadata": {},
   "source": [
    "Some of the commonly used libraries used by Data Scientists include:\n",
    "1. Pandas\n",
    "2. NumPy\n",
    "3. Seaborn\n",
    "4. dplyr\n",
    "5. Plotly"
   ]
  },
  {
   "cell_type": "markdown",
   "id": "2c469142-bf25-42eb-b82b-2f9f46b83425",
   "metadata": {},
   "source": [
    "|Category|Library/Tool|Description|\n",
    "|--------|------------|-----------|\n",
    "|Python  |  Pandas    |    Handles structured data like DataFrames for cleaning, transforming, and analyzing data.|\n",
    "|R       | dplyr      |Simplifies data manipulation tasks like filtering, summarizing, and grouping.|\n",
    "|Python  |NLTK        |Prepares and processes text data, including tokenization and stemming.|"
   ]
  },
  {
   "cell_type": "markdown",
   "id": "1c841d0e-3efc-41dd-9607-fcd5cba0b1fe",
   "metadata": {},
   "source": [
    "### Below are a few examples of evaluating arithmetic expressions in Python"
   ]
  },
  {
   "cell_type": "code",
   "execution_count": 34,
   "id": "64e06fb2-86df-4bde-afaf-cd586eb9c8c3",
   "metadata": {},
   "outputs": [
    {
     "data": {
      "text/plain": [
       "17"
      ]
     },
     "execution_count": 34,
     "metadata": {},
     "output_type": "execute_result"
    }
   ],
   "source": [
    "(3*4)+5\n",
    "# This a simple arithmetic expression to mutiply then add integers"
   ]
  },
  {
   "cell_type": "code",
   "execution_count": 46,
   "id": "63c69f70-a591-4bc2-be1a-3cced9173d9d",
   "metadata": {},
   "outputs": [
    {
     "data": {
      "text/plain": [
       "3.3333333333333335"
      ]
     },
     "execution_count": 46,
     "metadata": {},
     "output_type": "execute_result"
    }
   ],
   "source": [
    "200/60\n",
    "# This will convert 200 minutes to hours by diving by 60"
   ]
  },
  {
   "cell_type": "markdown",
   "id": "0bb6f1e2-67b4-4a4a-bea6-f1520e9dccd7",
   "metadata": {},
   "source": [
    "# Objectives:\n",
    "* Python\n",
    " * R\n",
    " * SQL\n",
    " * SAS"
   ]
  },
  {
   "cell_type": "markdown",
   "id": "77c56170-897d-4d48-9823-8598a0c7d17a",
   "metadata": {},
   "source": [
    "## Author\n",
    "Awolola oluwanifemi"
   ]
  },
  {
   "cell_type": "code",
   "execution_count": null,
   "id": "17b7059f-ebc5-4ae4-83e9-8623c765caaa",
   "metadata": {},
   "outputs": [],
   "source": []
  }
 ],
 "metadata": {
  "kernelspec": {
   "display_name": "Python 3 (ipykernel)",
   "language": "python",
   "name": "python3"
  },
  "language_info": {
   "codemirror_mode": {
    "name": "ipython",
    "version": 3
   },
   "file_extension": ".py",
   "mimetype": "text/x-python",
   "name": "python",
   "nbconvert_exporter": "python",
   "pygments_lexer": "ipython3",
   "version": "3.12.7"
  }
 },
 "nbformat": 4,
 "nbformat_minor": 5
}
